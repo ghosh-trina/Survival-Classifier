{
 "cells": [
  {
   "cell_type": "code",
   "execution_count": 1,
   "metadata": {},
   "outputs": [],
   "source": [
    "from sklearn.metrics import confusion_matrix, classification_report, accuracy_score, roc_curve, auc, plot_roc_curve, precision_score, recall_score, f1_score, plot_confusion_matrix"
   ]
  },
  {
   "cell_type": "code",
   "execution_count": 2,
   "metadata": {},
   "outputs": [],
   "source": [
    "def eval_metrics(model, xtest, ytrue, ypred):\n",
    "    print('Precision: {}'.format(round(precision_score(y_true = Ytest, y_pred = results),2)))\n",
    "    print('Recall: {}'.format(round(recall_score(y_true = Ytest, y_pred = results),2)))\n",
    "    print('F1 Score: {}'.format(round(f1_score(y_true = Ytest, y_pred = results),2)))\n",
    "    plot_confusion_matrix(model, X = xtest, y_true = ytrue)\n",
    "    plot_roc_curve(model, X=xtest, y= ytrue)\n",
    "    "
   ]
  },
  {
   "cell_type": "code",
   "execution_count": null,
   "metadata": {},
   "outputs": [],
   "source": []
  }
 ],
 "metadata": {
  "kernelspec": {
   "display_name": "Python 3",
   "language": "python",
   "name": "python3"
  },
  "language_info": {
   "codemirror_mode": {
    "name": "ipython",
    "version": 3
   },
   "file_extension": ".py",
   "mimetype": "text/x-python",
   "name": "python",
   "nbconvert_exporter": "python",
   "pygments_lexer": "ipython3",
   "version": "3.7.6"
  }
 },
 "nbformat": 4,
 "nbformat_minor": 4
}
