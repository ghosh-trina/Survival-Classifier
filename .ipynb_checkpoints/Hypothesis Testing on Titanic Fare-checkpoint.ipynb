{
 "cells": [
  {
   "cell_type": "code",
   "execution_count": 1,
   "metadata": {},
   "outputs": [],
   "source": [
    "import pandas as pd\n",
    "import numpy as np\n",
    "import handcalcs.render\n",
    "import math as m\n",
    "import scipy.stats as sc\n",
    "from scipy.stats import t\n",
    "import statistics as st\n",
    "import matplotlib.pyplot as plt\n",
    "import seaborn as sns\n",
    "from random import sample"
   ]
  },
  {
   "cell_type": "code",
   "execution_count": 23,
   "metadata": {},
   "outputs": [],
   "source": [
    "df = pd.read_csv('train.csv')"
   ]
  },
  {
   "cell_type": "code",
   "execution_count": 24,
   "metadata": {},
   "outputs": [],
   "source": [
    "def remout(x):\n",
    "    return (x-st.mean(x))/st.stdev(x)"
   ]
  },
  {
   "cell_type": "code",
   "execution_count": 25,
   "metadata": {},
   "outputs": [],
   "source": [
    "col = df.Fare"
   ]
  },
  {
   "cell_type": "code",
   "execution_count": 26,
   "metadata": {},
   "outputs": [],
   "source": [
    "df = df[abs(remout(col))<3]"
   ]
  },
  {
   "cell_type": "code",
   "execution_count": null,
   "metadata": {},
   "outputs": [],
   "source": []
  },
  {
   "cell_type": "code",
   "execution_count": null,
   "metadata": {},
   "outputs": [],
   "source": []
  },
  {
   "cell_type": "code",
   "execution_count": 172,
   "metadata": {},
   "outputs": [],
   "source": [
    "def hypotest(dataframe, pop_col, no_of_sample, use_pop_sd_flag, hypo_type, cat_col, category):\n",
    "    '''\n",
    "    dataframe: \\t\\tName of the Dataframe example: df,\n",
    "    \n",
    "    pop_col: \\t\\tThe main Population Column example: \\'Fare\\',\n",
    "    \n",
    "    no_of_sample: \\tNumber of Samples you want example: 30, \n",
    "    \n",
    "    use_pop_sd_flag: \\t(Y/N) Y - Use population standard deviation/ Use Sample standard deviation , \n",
    "    \n",
    "    hypo_type: \\t\\tWhat kind of Hypothesis Test \\'lt\\'/\\'rt\\'/\\'2t\\':  Left/Right/2 tailed Test\n",
    "    \n",
    "    cat_col: \\t\\tCategory Column which should be considered to hypothesis with? example: \\'Sex\\', \n",
    "    \n",
    "    category: \\t\\tCategorical Value whose mean could be checked with the Population Mean example: \\'male\\'\n",
    "    \n",
    "    \n",
    "    hypotest(dataframe = df, pop_col = \\'Fare\\', no_of_sample = 20, use_pop_sd_flag = \\'Y\\', hypo_type = \\'lt\\', cat_col = \\'Sex\\', category = \\'male\\')\n",
    "    '''\n",
    "    mu = st.mean(dataframe[pop_col])\n",
    "    \n",
    "    print('------------------------------------------- Summarizing -------------------------------------------')\n",
    "    \n",
    "    \n",
    "    if hypo_type == 'lt':\n",
    "        print('\\t\\t\\tNull Hypothesis \\t\\tHo: \\u03BC >= {}'.format(mu))\n",
    "        print('\\t\\t\\tAlternate Hypothesis \\t\\tHa: \\u03BC < {}'.format(mu))\n",
    "    elif hypo_type == 'rt':\n",
    "        print('\\t\\t\\tNull Hypothesis \\t\\tHo: \\u03BC <= {}'.format(mu))\n",
    "        print('\\t\\t\\tAlternate Hypothesis \\t\\tHa: \\u03BC > {}'.format(mu))\n",
    "    elif hypo_type == '2t':\n",
    "        print('\\t\\t\\tNull Hypothesis \\t\\tHo: \\u03BC == {}'.format(0))\n",
    "        print('\\t\\t\\tAlternate Hypothesis \\t\\tHa: \\u03BC != {}'.format(0))\n",
    "    else:\n",
    "        return print('Pass Hypothesis Type (hypo_type = \\'lt\\'/\\'rt\\'/\\'2t\\')')\n",
    "    \n",
    "    # Create Sample space using Number of Samples\n",
    "    \n",
    "    subsetdata = dataframe[dataframe[cat_col] == category]\n",
    "    sample_space = sample(list(subsetdata[pop_col]),no_of_sample)\n",
    "    \n",
    "    # Define Standard Deviation\n",
    "    \n",
    "    if use_pop_sd_flag == 'Y':\n",
    "        sd = st.stdev(dataframe[pop_col])\n",
    "    elif use_pop_sd_flag == 'N':\n",
    "        sd = st.stdev(sample_space)\n",
    "    else:\n",
    "        return print('Use Population Flag for Standard Deviation should be Y/N')\n",
    "    \n",
    "    \n",
    "   "
   ]
  },
  {
   "cell_type": "code",
   "execution_count": 176,
   "metadata": {},
   "outputs": [
    {
     "name": "stdout",
     "output_type": "stream",
     "text": [
      "------------------------------------------- Summarizing -------------------------------------------\n",
      "\t\t\tNull Hypothesis \t\tHo: μ >= 26.530170378874857\n",
      "\t\t\tAlternate Hypothesis \t\tHa: μ < 26.530170378874857\n",
      "29.35118358995997\n"
     ]
    }
   ],
   "source": [
    "hypotest(dataframe = df, pop_col = 'Fare', no_of_sample = 20, use_pop_sd_flag = 'Y', hypo_type = 'lt', cat_col = 'Sex', category = 'male')"
   ]
  },
  {
   "cell_type": "code",
   "execution_count": 177,
   "metadata": {},
   "outputs": [
    {
     "name": "stdout",
     "output_type": "stream",
     "text": [
      "------------------------------------------- Summarizing -------------------------------------------\n",
      "\t\t\tNull Hypothesis \t\tHo: μ <= 26.530170378874857\n",
      "\t\t\tAlternate Hypothesis \t\tHa: μ > 26.530170378874857\n",
      "34.00696746060748\n"
     ]
    }
   ],
   "source": [
    "hypotest(dataframe = df, pop_col = 'Fare', no_of_sample = 20, use_pop_sd_flag = 'Y', hypo_type = 'rt', cat_col = 'Sex', category = 'male')"
   ]
  },
  {
   "cell_type": "code",
   "execution_count": 179,
   "metadata": {},
   "outputs": [
    {
     "name": "stdout",
     "output_type": "stream",
     "text": [
      "------------------------------------------- Summarizing -------------------------------------------\n",
      "\t\t\tNull Hypothesis \t\tHo: μ == 0\n",
      "\t\t\tAlternate Hypothesis \t\tHa: μ != 0\n",
      "Use Population Flag for Standard Deviation should be Y/N\n"
     ]
    }
   ],
   "source": [
    "hypotest(dataframe = df, pop_col = 'Fare', no_of_sample = 20, use_pop_sd_flag = 'Y', hypo_type = '2t', cat_col = 'Sex', category = 'male')"
   ]
  },
  {
   "cell_type": "code",
   "execution_count": 148,
   "metadata": {},
   "outputs": [
    {
     "name": "stdout",
     "output_type": "stream",
     "text": [
      "Help on function hypotest in module __main__:\n",
      "\n",
      "hypotest(dataframe, pop_col, no_of_sample, use_pop_sd_flag, hypo_type, cat_col, category)\n",
      "    dataframe:          Name of the Dataframe example: df,\n",
      "    \n",
      "    pop_col:            The main Population Column example: 'Fare',\n",
      "    \n",
      "    no_of_sample:       Number of Samples you want example: 30, \n",
      "    \n",
      "    use_pop_sd_flag:    (Y/N) Y - Use population standard deviation/ Use Sample standard deviation , \n",
      "    \n",
      "    hypo_type:          What kind of Hypothesis Test 'lt'/'rt'/'2t':  Left/Right/2 tailed Test\n",
      "    \n",
      "    cat_col:            Category Column which should be considered to hypothesis with? example: 'Sex', \n",
      "    \n",
      "    category:           Categorical Value whose mean could be checked with the Population Mean example: 'male'\n",
      "    \n",
      "    \n",
      "    hypotest(dataframe = df, pop_col = 'Fare', no_of_sample = 20, use_pop_sd_flag = 'Y', hypo_type = 'lt', cat_col = 'Sex', category = 'male')\n",
      "\n"
     ]
    }
   ],
   "source": [
    "help(hypotest)"
   ]
  },
  {
   "cell_type": "code",
   "execution_count": null,
   "metadata": {},
   "outputs": [],
   "source": []
  },
  {
   "cell_type": "code",
   "execution_count": null,
   "metadata": {},
   "outputs": [],
   "source": []
  }
 ],
 "metadata": {
  "kernelspec": {
   "display_name": "Python 3",
   "language": "python",
   "name": "python3"
  },
  "language_info": {
   "codemirror_mode": {
    "name": "ipython",
    "version": 3
   },
   "file_extension": ".py",
   "mimetype": "text/x-python",
   "name": "python",
   "nbconvert_exporter": "python",
   "pygments_lexer": "ipython3",
   "version": "3.7.6"
  }
 },
 "nbformat": 4,
 "nbformat_minor": 4
}
